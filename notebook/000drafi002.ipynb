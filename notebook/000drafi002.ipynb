{
 "cells": [
  {
   "cell_type": "code",
   "execution_count": 17,
   "metadata": {},
   "outputs": [],
   "source": [
    "#qwkの検証4クラス\n",
    "import numpy as np\n",
    "\n",
    "pred = np.random.rand(10)\n",
    "y_pred = np.random.randint(0, 4, 10)\n",
    "y_true = np.random.randint(0, 4, 10)\n",
    "\n",
    "def quadratic_weighted_kappa(y_true, y_pred):\n",
    "    #y_true = np.array(y_true)\n",
    "    #y_pred = np.array(y_pred)\n",
    "    #print(y_true)\n",
    "    #print(y_pred)\n",
    "    #print(np.unique(y_true))\n",
    "    #print(np.unique(y_pred))\n",
    "    #print(len(y_true))\n",
    "    #print(len(y_pred))\n",
    "    #print(len(np.unique(y_true)))\n",
    "    #print(len(np.unique(y_pred)))\n",
    "    #print(len(np.unique(y_true)) != len(np.unique(y_pred)))\n",
    "    if len(np.unique(y_true)) != len(np.unique(y_pred)):\n",
    "        raise ValueError(\"Number of classes in y_true and y_pred must match\")\n",
    "    n_classes = len(np.unique(y_true))\n",
    "    #print(n_classes)\n",
    "    hist_true = np.zeros((n_classes))\n",
    "    hist_pred = np.zeros((n_classes))\n",
    "    for i in range(len(y_true)):\n",
    "        hist_true[y_true[i]] += 1\n",
    "        hist_pred[y_pred[i]] += 1\n",
    "    #print(hist_true)\n",
    "    #print(hist_pred)\n",
    "    numerator = 0.0\n",
    "    denominator = 0.0\n",
    "    for i in range(n_classes):\n",
    "        for j in range(n_classes):\n",
    "            expected_count = hist_true[i] * hist_pred[j] / len(y_true)\n",
    "            d = i - j\n",
    "            numerator += d * d * expected_count\n",
    "            denominator += d * d * hist_true[i] * hist_pred[j] / (len(y_true) * len(y_true))\n",
    "    denominator = np.sqrt(denominator)\n",
    "    if denominator == 0:\n",
    "        return 1.0\n",
    "    else:\n",
    "        return 1.0 - numerator / denominator"
   ]
  },
  {
   "cell_type": "code",
   "execution_count": 18,
   "metadata": {},
   "outputs": [
    {
     "name": "stdout",
     "output_type": "stream",
     "text": [
      "[0 1 2 3 3 0 0 2 0 3] [1 2 3 0 2 1 1 2 0 2]\n",
      "-14.748015748023619\n"
     ]
    }
   ],
   "source": [
    "print(y_pred, y_true)\n",
    "print(quadratic_weighted_kappa(y_true, y_pred))"
   ]
  }
 ],
 "metadata": {
  "kernelspec": {
   "display_name": "CMI2",
   "language": "python",
   "name": "python3"
  },
  "language_info": {
   "codemirror_mode": {
    "name": "ipython",
    "version": 3
   },
   "file_extension": ".py",
   "mimetype": "text/x-python",
   "name": "python",
   "nbconvert_exporter": "python",
   "pygments_lexer": "ipython3",
   "version": "3.10.14"
  }
 },
 "nbformat": 4,
 "nbformat_minor": 2
}
