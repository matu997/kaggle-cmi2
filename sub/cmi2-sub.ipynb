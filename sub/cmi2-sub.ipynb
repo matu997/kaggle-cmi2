{
 "cells": [
  {
   "cell_type": "code",
   "execution_count": 1,
   "metadata": {},
   "outputs": [
    {
     "name": "stdout",
     "output_type": "stream",
     "text": [
      "python: can't open file '/kaggle/input/cmi2-codes/exp004.py': [Errno 2] No such file or directory\n"
     ]
    }
   ],
   "source": [
    "!PYTHONPATH=/kaggle/input/cmi2-codes \\\n",
    "  python /kaggle/input/cmi2-codes/exp004.py"
   ]
  }
 ],
 "metadata": {
  "kernelspec": {
   "display_name": "CMI2",
   "language": "python",
   "name": "python3"
  },
  "language_info": {
   "codemirror_mode": {
    "name": "ipython",
    "version": 3
   },
   "file_extension": ".py",
   "mimetype": "text/x-python",
   "name": "python",
   "nbconvert_exporter": "python",
   "pygments_lexer": "ipython3",
   "version": "3.10.14"
  }
 },
 "nbformat": 4,
 "nbformat_minor": 2
}
